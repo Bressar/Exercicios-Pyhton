{
 "cells": [
  {
   "cell_type": "markdown",
   "metadata": {},
   "source": [
    "# Exercícios Módulo 2. Funções (Soluções)\n",
    "\n",
    "Considerações a ter em conta:\n",
    "\n",
    "* Guardar este documento com o seguinte formato para entrega: M2_06_nome_apelido1_apelido2\n",
    "* Fazer os exercícios com as ferramentas vistas nas sessões. \n",
    "* Comentar o código\n",
    "* Utilizar nomes de variáveis apropriados, se vai guardar uma nota, chamar a essa variável nota, não n ou x"
   ]
  },
  {
   "cell_type": "markdown",
   "metadata": {},
   "source": [
    "**1) Fazer uma função que devolva a área de um retângulo a partir da sua base e altura.\n",
    "A função chama-se area_retangulo(). Os valores da base e a altura pedem-se ao utilizador.**\n",
    "\n",
    "*Nota: a área de um retângulo obtém-se ao multiplicar a base pela altura.*"
   ]
  },
  {
   "cell_type": "code",
   "execution_count": 1,
   "metadata": {},
   "outputs": [
    {
     "name": "stdout",
     "output_type": "stream",
     "text": [
      "=-=-=-=-=-=-=-=-=-=-=-=-=-=-=-=-=-=-=-=-=-=-=-=-=-=-=-=-=-=-=-=-=-=-\n",
      "Para saber a Área de um Retângulo informe as Medidas dos seus Lados:\n",
      "-=-=-=-=-=-=-=-=-=-=-=-=-=-=-=-=-=-=-=-=-=-=-=-=-=-=-=-=-=-=-=-=-=-=\n",
      "Valor da Base: 5\n",
      "Valor da Altura: 7\n",
      "A Área do Retângulo com Base 5.00 e Altura 7.00 é de: 35.00\n",
      "------------------------------------------------------------\n",
      "Quer continuar [S/N] s\n",
      "-=-=-=-=-=-=-=-=-=-=-=-=-=-=-=-=-=-=-=-=-=-=-=-=-=-=-=-=-=-=\n",
      "Valor da Base: 9\n",
      "Valor da Altura: 2\n",
      "A Área do Retângulo com Base 9.00 e Altura 2.00 é de: 18.00\n",
      "------------------------------------------------------------\n",
      "Quer continuar [S/N] s\n",
      "-=-=-=-=-=-=-=-=-=-=-=-=-=-=-=-=-=-=-=-=-=-=-=-=-=-=-=-=-=-=\n",
      "Valor da Base: -8\n",
      "Valor da Altura: 5\n",
      "Erro! Valores inválidos...\n",
      "------------------------------------------------------------\n",
      "Quer continuar [S/N] s\n",
      "-=-=-=-=-=-=-=-=-=-=-=-=-=-=-=-=-=-=-=-=-=-=-=-=-=-=-=-=-=-=\n",
      "Valor da Base: 5\n",
      "Valor da Altura: 5\n",
      "Erro! Valores inválidos...\n",
      "------------------------------------------------------------\n",
      "Quer continuar [S/N] n\n",
      "-=-=-=-=-=-=-=-=-=-=-=-=-=-=-=-=-=-=-=-=-=-=-=-=-=-=-=-=-=-=\n",
      "FIM! Saindo do Programa...\n",
      "------------------------------------------------------------\n"
     ]
    }
   ],
   "source": [
    "# Função para calcular a área de um retângulo\n",
    "def area_retangulo():\n",
    "    # HEADER\n",
    "    print(\"=-\" * 34)\n",
    "    print(\"Para saber a Área de um Retângulo informe as Medidas dos seus Lados:\")\n",
    "    print(\"-=\" * 34)\n",
    "\n",
    "    # Continua o loop até o user decidir sair do programa...\n",
    "    while True:\n",
    "        # valores de entrada\n",
    "        base = float(input('Valor da Base: '))\n",
    "        altura = float(input('Valor da Altura: '))\n",
    "        # código para verificar se os valores fornecidos são válidos!\n",
    "        while base <= 0 or altura <= 0 or base == altura:\n",
    "            print('Erro! Valores inválidos...')\n",
    "            print(\"--\" * 30)\n",
    "            break\n",
    "        # resposta para o user da operação realizada \n",
    "        else:\n",
    "            print (f'A Área do Retângulo com Base {base:.2f} e Altura {altura:.2f} é de: {base * altura:.2f}')\n",
    "            print(\"--\" * 30)\n",
    "\n",
    "        ''' # Código desconsiderado!\n",
    "        \n",
    "        *      Avisa se com dados fornecidos se forma um quadrado ao invés de um retângulo\n",
    "        *      while base == altura:\n",
    "        *         print(\"Erro! Os valores fornecidos formam um Quadrado!\")\n",
    "        *           print(\"--\" * 30)\n",
    "        *           break\n",
    "        \n",
    "        '''\n",
    "        # código para dizer se o user quer continuar ou sair do programa\n",
    "        sair = \" \"\n",
    "        while sair not in \"SsNn\":\n",
    "            sair = str(input(\"Quer continuar [S/N] \")).strip().upper()[0]\n",
    "            print(\"-=-=\" * 15)\n",
    "        if sair == \"N\": # Sai do programa\n",
    "            print(\"FIM! Saindo do Programa...\")\n",
    "            print(\"--\" * 30)\n",
    "            break\n",
    "\n",
    "# Declaração da função\n",
    "area_retangulo()\n",
    "\n",
    "\n"
   ]
  },
  {
   "cell_type": "markdown",
   "metadata": {},
   "source": [
    "**2) Fazer uma função que devolva a área de um círculo a partir de um raio.\n",
    "A função chama-se area_circulo(). O valor do raio pede-se ao utilizador:**\n",
    "\n",
    "Nota: a área de um círculo obtém-se ao elevar o raio ao quadrado e multiplicando o resultado pelo número pi. Pode utilizar o valor 3,14159 como pi ou importá-lo do módulo math:\n",
    "```python\n",
    "import math\n",
    "print(math.pi)\n",
    "> 3.1415...\n",
    "```"
   ]
  },
  {
   "cell_type": "code",
   "execution_count": 1,
   "metadata": {},
   "outputs": [
    {
     "name": "stdout",
     "output_type": "stream",
     "text": [
      "Informe o Raio para saber a Área do Círculo: 3\n",
      "28.27\n"
     ]
    }
   ],
   "source": [
    "# Função área do circulo\n",
    "from math import pi # Usando só o pi para não carregar toda a biblioteca math\n",
    "def area_circulo():\n",
    "    while True: # testando se valor de entrada é válido\n",
    "       raio = float(input(\"Informe o Raio para saber a Área do Círculo: \"))\n",
    "       if raio <= 0:\n",
    "            print(\"Valor inválido! Digite novamente.\")\n",
    "            break\n",
    "       else:\n",
    "           #area = (raio ** 2) * 3.14159 # versão usando cálculo \"normal\"\n",
    "           area = pow(raio, 2) * pi # versão usando pow e pi\n",
    "           return (f\"{area:.2f}\")\n",
    "\n",
    "print(area_circulo())\n",
    "\n"
   ]
  },
  {
   "cell_type": "markdown",
   "metadata": {},
   "source": [
    "**3)  Fazer uma função que a partir de dois números, que se solicitam por teclado ao utilizador e que se vai chamar relacao(), e cumpra as seguintes condições:**\n",
    "\n",
    "* Se o primeiro número é maior que o segundo, deve devolver 1\n",
    "* Se o primeiro número é menor que o segundo, deve devolver -1\n",
    "* Se ambos números são iguais, deve devolver um 0\n",
    "\n",
    "**Testar a relação entre os números com: '5 e 10', '10 e 5' e '5 e 5'**"
   ]
  },
  {
   "cell_type": "code",
   "execution_count": 3,
   "metadata": {},
   "outputs": [
    {
     "name": "stdout",
     "output_type": "stream",
     "text": [
      "Insira o 1° valor: 5\n",
      "Insira o 2° valor: 10\n",
      "[-1] O primeiro número é menor do que o segundo.\n",
      "------------------------------\n",
      "Para SAIR pressione [S]\n",
      "Para continuar pressione qualquer tecla... f\n",
      "------------------------------\n",
      "Insira o 1° valor: 10\n",
      "Insira o 2° valor: 5\n",
      "[1] O primeiro número é maior do que o segundo\n",
      "------------------------------\n",
      "Para SAIR pressione [S]\n",
      "Para continuar pressione qualquer tecla... a\n",
      "------------------------------\n",
      "Insira o 1° valor: 5\n",
      "Insira o 2° valor: 5\n",
      "[0] Os dois números são iguais.\n",
      "------------------------------\n",
      "Para SAIR pressione [S]\n",
      "Para continuar pressione qualquer tecla... s\n",
      "------------------------------\n",
      "FIM! Saindo do programa...\n"
     ]
    }
   ],
   "source": [
    "# Função para saber a relação entre dois números\n",
    "def relacao_2_numeros(num1, num2): # função\n",
    "    if num1 == num2:\n",
    "      print(\"[0] Os dois números são iguais.\")\n",
    "    elif num1 > num2:\n",
    "      print(\"[1] O primeiro número é maior do que o segundo\")\n",
    "    else:\n",
    "      print(\"[-1] O primeiro número é menor do que o segundo.\")\n",
    "    print(\"--\" * 15)\n",
    "# Loop para inserir os valores diversas vezes\n",
    "while True:\n",
    "      numero1 = float(input(\"Insira o 1° valor: \"))\n",
    "      numero2 = float(input(\"Insira o 2° valor: \"))\n",
    "      # chamada da função\n",
    "      relacao_2_numeros(numero1, numero2) # função aplicada dentro do programa\n",
    "      # Sair ou continuar...\n",
    "      sair = str(input(\"Para SAIR pressione [S]\\n\"\n",
    "                       \"Para continuar pressione qualquer tecla... \")).strip().upper()[0]\n",
    "      print(\"--\" * 15)\n",
    "      if sair in \"Ss\":\n",
    "          print(\"FIM! Saindo do programa...\")\n",
    "          break\n",
    "\n"
   ]
  },
  {
   "cell_type": "markdown",
   "metadata": {},
   "source": [
    "**4) Fazer uma função chamada ler_numero() que solicite e imprima um número do utilizador.  Utiliza esta função (ler_numeros) para pedir ao utilizador 3 números e guardamos estes 3 valores.\n",
    "De seguida, passe estes 3 números como argumento de uma nova função que se chame maior(a,b,c), que deve devolver o maior número:**"
   ]
  },
  {
   "cell_type": "code",
   "execution_count": 4,
   "metadata": {},
   "outputs": [
    {
     "name": "stdout",
     "output_type": "stream",
     "text": [
      "Insira 1° valor: 4\n",
      "Insira 2° valor: 5\n",
      "Insira 3° valor: 9\n",
      "Os 3 números são: [4.0, 5.0, 9.0]\n",
      "O maior número é: 9.0\n",
      "=-=-=-=-=-=-=-=-=-=-=-=-=-=-=-=-=-=-=-=-\n",
      "Insira 1° valor: 1\n",
      "Insira 2° valor: 2\n",
      "Insira 3° valor: 3\n",
      "O maior número é: 3.0\n"
     ]
    }
   ],
   "source": [
    "# Função \"ler_numeros\", recebe 3 valores e coloca-os em uma lista\n",
    "def ler_numeros(): # Função 1\n",
    "    numeros = []\n",
    "    for numero in range(1,4):\n",
    "        numero = float(input(f\"Insira {numero}° valor: \"))\n",
    "        numeros += [numero]\n",
    "    return numeros\n",
    "# variável resultado recebe os valores a partir da função\n",
    "resultado = ler_numeros()\n",
    "print(f\"Os 3 números são: {resultado}\")\n",
    "\n",
    "# Função \"maior\" recebe os dados de uma lista e os coloca em\n",
    "# ordem crescente e retorna o maior valor\n",
    "\n",
    "# def maior(numeros): # Função 2\n",
    "#     numeros = sorted(numeros)\n",
    "#     return numeros[-1]\n",
    "\n",
    "# Função \"maior\" recebe os dados de uma lista e retorna o maior valor\n",
    "def maior(numeros): # Função 2\n",
    "    return max(numeros)  # Encontrar o maior valor diretamente\n",
    "\n",
    "\n",
    "# Imprimindo o valor + alto dentro dos 3 recebidos na primeira função.\n",
    "print(\"O maior número é:\", maior(resultado))\n",
    "\n",
    "print(\"=-=-\" * 10)\n",
    "\n",
    "# Versão com tudo em apenas uma função usando \"IF\"\n",
    "def ler_numeros2():\n",
    "    numero = 0\n",
    "    numeros = []\n",
    "    maior = numero\n",
    "    for numero in range(1,4):\n",
    "        numero = float(input(f\"Insira {numero}° valor: \"))\n",
    "        numeros += [numero]\n",
    "        if numero > maior:\n",
    "           maior = numero\n",
    "    print(f\"O maior número é: {maior}\")\n",
    "ler_numeros2()\n"
   ]
  },
  {
   "cell_type": "markdown",
   "metadata": {},
   "source": [
    "**5) Fazer uma função chamada imc(). Esta função proporciona-nos o estado nutricional de uma  pessoa. É a classificação do seu índice de massa corporal (IMC), segundo a definição:**\n",
    "* Baixo peso:  0 < 18.50\n",
    "* Normal:       entre (18.50, 25.00)\n",
    "* Sobrepeso:  entre (25.00, 30.00)\n",
    "* Obesidade:   ∞  > 30.00  \n",
    " A função irá receber o peso (em quilos) e o tamanho de uma pessoa (em metros com dois valores decimais) do utilizador, na qual se pode calcular o IMC da seguinte forma:\n",
    "\n",
    "*IMC = peso / (altura * altura)*\n",
    "*Classificação: IMC (Kg/m^2)*\n"
   ]
  },
  {
   "cell_type": "code",
   "execution_count": 1,
   "metadata": {},
   "outputs": [
    {
     "name": "stdout",
     "output_type": "stream",
     "text": [
      "=-=-=-=-=-=-=-=-=-=-=-=-=-=-\n",
      ">>>  CALCULADORA DE IMC <<<\n",
      "<<< Insira os seus dados >>>\n",
      "=-=-=-=-=-=-=-=-=-=-=-=-=-=-\n",
      "Altura em metros: 2\n",
      "Peso em Kg: 75\n",
      "--------------------------------------\n",
      "Seu IMC é de 18.75: >> NORMAL.\n",
      "Quer Sair? [S/N] n\n",
      "-=-=-=-=-=-=-=-=-=-=-=-=-=-=-=-=-=-=-=\n",
      "Altura em metros: 1.68\n",
      "Peso em Kg: 34\n",
      "--------------------------------------\n",
      "Seu IMC é de 12.05: >> BAIXO PESO.\n",
      "Quer Sair? [S/N] n\n",
      "-=-=-=-=-=-=-=-=-=-=-=-=-=-=-=-=-=-=-=\n",
      "Altura em metros: 1.70\n",
      "Peso em Kg: 89\n",
      "--------------------------------------\n",
      "Seu IMC é de 30.80: >> OBESIDADE\n",
      "Quer Sair? [S/N] s\n",
      "--------------------------------------\n",
      "Saindo do Programa...\n"
     ]
    }
   ],
   "source": [
    "# Função IMC\n",
    "def imc():\n",
    "    print(\"=-=-\" * 7)\n",
    "    print(\">>>  CALCULADORA DE IMC <<<\\n\"\n",
    "          \"<<< Insira os seus dados >>>\")\n",
    "    print(\"=-=-\" * 7)\n",
    "    while True: # loop geral do programa\n",
    "        while True: # loop da entrada de dados\n",
    "            altura = float(input(\"Altura em metros: \"))\n",
    "            peso = float(input(\"Peso em Kg: \"))\n",
    "            print(\"--\" * 19)\n",
    "            if  altura < 0.30 or altura > 2.5: # validação de dados \"Altura\"\n",
    "                print(\"Valores inválidos! Escreva novamente.\")\n",
    "                print(\"-=\" * 10)\n",
    "                continue\n",
    "            if peso < 0.50 or peso > 500: # validação de dados \"Peso\"\n",
    "                print(\"Valores inválidos! Escreva novamente.\")\n",
    "                print(\"-=\" * 10)\n",
    "                continue\n",
    "            imc = peso / (altura ** 2) # Fórmula IMC\n",
    "            # Resposta dos dados inseridos pelo User\n",
    "            print(f\"Seu IMC é de {imc:.2f}: \", end =\"\")\n",
    "            if imc < 18.5:\n",
    "                print(\">> BAIXO PESO.\")\n",
    "                break\n",
    "            elif imc < 25:\n",
    "                print(\">> NORMAL.\")\n",
    "                break\n",
    "            elif imc < 30:\n",
    "                print(\">> SOBREPESO.\")\n",
    "                break\n",
    "            elif imc <= 40:\n",
    "                print(\">> OBESIDADE\")\n",
    "                break\n",
    "            else:\n",
    "                print(\">> OBESIDADE MÓRBIDA\")\n",
    "                break\n",
    "        # Código para sair do programa\n",
    "        sair = str(input(\"Quer Sair? [S/N] \")).strip().upper()[0]\n",
    "        if sair == \"S\":\n",
    "            print(\"--\" * 19)\n",
    "            print(\"Saindo do Programa...\")\n",
    "            break\n",
    "        print(\"-=\" * 19)\n",
    "\n",
    "imc() # print da Função\n",
    "\n"
   ]
  },
  {
   "cell_type": "code",
   "execution_count": null,
   "metadata": {},
   "outputs": [],
   "source": []
  }
 ],
 "metadata": {
  "anaconda-cloud": {},
  "kernelspec": {
   "display_name": "Python 3 (ipykernel)",
   "language": "python",
   "name": "python3"
  },
  "language_info": {
   "codemirror_mode": {
    "name": "ipython",
    "version": 3
   },
   "file_extension": ".py",
   "mimetype": "text/x-python",
   "name": "python",
   "nbconvert_exporter": "python",
   "pygments_lexer": "ipython3",
   "version": "3.11.5"
  }
 },
 "nbformat": 4,
 "nbformat_minor": 1
}
